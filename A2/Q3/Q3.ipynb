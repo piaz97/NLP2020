{
 "cells": [
  {
   "cell_type": "markdown",
   "metadata": {},
   "source": [
    "# Modified CKY"
   ]
  },
  {
   "cell_type": "code",
   "execution_count": 1,
   "metadata": {},
   "outputs": [
    {
     "name": "stdout",
     "output_type": "stream",
     "text": [
      "SHOULD BE TRUE\n",
      "True\n",
      "SHOULD BE FALSE\n",
      "False\n"
     ]
    }
   ],
   "source": [
    "import numpy as np\n",
    "    \n",
    "def CKY(s):\n",
    "    \n",
    "    # grammar's rules\n",
    "    rules = [\n",
    "        ['S0','AS'],\n",
    "        ['S0','BS'],\n",
    "        ['S0','BA'],\n",
    "        ['S0','AB'],\n",
    "        ['S0','AA'],\n",
    "        ['S0','BB'],\n",
    "        ['S','AS'],\n",
    "        ['S','BS'],\n",
    "        ['S','BA'],\n",
    "        ['S','AB'],\n",
    "        ['S','AA'],\n",
    "        ['S','BB']\n",
    "    ]\n",
    "    \n",
    "    non_term = {\n",
    "        'S0':'a',\n",
    "        'S0':'b',\n",
    "        'A':'a',\n",
    "        'B':'b'\n",
    "    }\n",
    "\n",
    "    # indexes for dealing with non terminals matrix layers\n",
    "    index = {\n",
    "        'S0':0,\n",
    "        'A':1,\n",
    "        'B':2,\n",
    "        'S':3\n",
    "    }\n",
    "    \n",
    "    # algo from pseudo-code adapted to start from 0 instead of 1\n",
    "    N = len(s)\n",
    "    matrix = np.zeros((len(index),N,N))\n",
    "\n",
    "    for i in range(N):\n",
    "        for key, value in non_term.items():\n",
    "            if value == s[i]:\n",
    "                matrix[index[key],N-1,i] = 1\n",
    "\n",
    "    for span in range(1, N+1):\n",
    "        k = N-1-span\n",
    "        for key, value in rules:            \n",
    "            left = matrix[index[value[0]],N-1, k]\n",
    "            right = matrix[index[value[1]], k+1, k+1]\n",
    "            matrix[index[key], k, k] += right*left\n",
    "    \n",
    "    return matrix[0,0,0]>0\n",
    "\n",
    "#\n",
    "print('SHOULD BE TRUE')\n",
    "s = \"babbabbbb\"\n",
    "print(CKY(s))\n",
    "\n",
    "\n",
    "print('SHOULD BE FALSE')\n",
    "s = \"babbabCbbb\"\n",
    "print(CKY(s))\n",
    "\n",
    "\n",
    "    "
   ]
  }
 ],
 "metadata": {
  "kernelspec": {
   "display_name": "Python 3.6.9 64-bit",
   "language": "python",
   "name": "python36964biteb906d34f39c46cdba4549d9faab3c2f"
  },
  "language_info": {
   "codemirror_mode": {
    "name": "ipython",
    "version": 3
   },
   "file_extension": ".py",
   "mimetype": "text/x-python",
   "name": "python",
   "nbconvert_exporter": "python",
   "pygments_lexer": "ipython3",
   "version": "3.6.9"
  }
 },
 "nbformat": 4,
 "nbformat_minor": 4
}
